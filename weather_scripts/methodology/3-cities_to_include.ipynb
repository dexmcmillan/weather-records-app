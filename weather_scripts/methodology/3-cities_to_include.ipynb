{
 "cells": [
  {
   "cell_type": "markdown",
   "metadata": {},
   "source": [
    "# How did I decide which cities to include?"
   ]
  },
  {
   "cell_type": "markdown",
   "metadata": {},
   "source": [
    "This notebook walks through how I created a list of cities to include in the tracker. First, let's import pandas."
   ]
  },
  {
   "cell_type": "code",
   "execution_count": 1,
   "metadata": {},
   "outputs": [],
   "source": [
    "import pandas as pd"
   ]
  },
  {
   "cell_type": "markdown",
   "metadata": {},
   "source": [
    "Then, let's read in our raw data. We'll use it as a starting point."
   ]
  },
  {
   "cell_type": "code",
   "execution_count": 35,
   "metadata": {},
   "outputs": [
    {
     "data": {
      "text/html": [
       "<div>\n",
       "<style scoped>\n",
       "    .dataframe tbody tr th:only-of-type {\n",
       "        vertical-align: middle;\n",
       "    }\n",
       "\n",
       "    .dataframe tbody tr th {\n",
       "        vertical-align: top;\n",
       "    }\n",
       "\n",
       "    .dataframe thead th {\n",
       "        text-align: right;\n",
       "    }\n",
       "</style>\n",
       "<table border=\"1\" class=\"dataframe\">\n",
       "  <thead>\n",
       "    <tr style=\"text-align: right;\">\n",
       "      <th></th>\n",
       "      <th>Unnamed: 0</th>\n",
       "      <th>CMANAME</th>\n",
       "      <th>Month</th>\n",
       "      <th>Day</th>\n",
       "      <th>Year</th>\n",
       "      <th>value</th>\n",
       "    </tr>\n",
       "  </thead>\n",
       "  <tbody>\n",
       "    <tr>\n",
       "      <th>0</th>\n",
       "      <td>0</td>\n",
       "      <td>Toronto</td>\n",
       "      <td>3</td>\n",
       "      <td>1</td>\n",
       "      <td>1840</td>\n",
       "      <td>8.3</td>\n",
       "    </tr>\n",
       "    <tr>\n",
       "      <th>1</th>\n",
       "      <td>1</td>\n",
       "      <td>Toronto</td>\n",
       "      <td>3</td>\n",
       "      <td>2</td>\n",
       "      <td>1840</td>\n",
       "      <td>7.8</td>\n",
       "    </tr>\n",
       "    <tr>\n",
       "      <th>2</th>\n",
       "      <td>2</td>\n",
       "      <td>Toronto</td>\n",
       "      <td>3</td>\n",
       "      <td>3</td>\n",
       "      <td>1840</td>\n",
       "      <td>11.1</td>\n",
       "    </tr>\n",
       "    <tr>\n",
       "      <th>3</th>\n",
       "      <td>3</td>\n",
       "      <td>Toronto</td>\n",
       "      <td>3</td>\n",
       "      <td>4</td>\n",
       "      <td>1840</td>\n",
       "      <td>15.0</td>\n",
       "    </tr>\n",
       "    <tr>\n",
       "      <th>4</th>\n",
       "      <td>4</td>\n",
       "      <td>Toronto</td>\n",
       "      <td>3</td>\n",
       "      <td>5</td>\n",
       "      <td>1840</td>\n",
       "      <td>6.7</td>\n",
       "    </tr>\n",
       "  </tbody>\n",
       "</table>\n",
       "</div>"
      ],
      "text/plain": [
       "   Unnamed: 0  CMANAME  Month  Day  Year  value\n",
       "0           0  Toronto      3    1  1840    8.3\n",
       "1           1  Toronto      3    2  1840    7.8\n",
       "2           2  Toronto      3    3  1840   11.1\n",
       "3           3  Toronto      3    4  1840   15.0\n",
       "4           4  Toronto      3    5  1840    6.7"
      ]
     },
     "execution_count": 35,
     "metadata": {},
     "output_type": "execute_result"
    }
   ],
   "source": [
    "data = pd.read_csv(\"../data/raw_data-max.csv\")\n",
    "\n",
    "data.head()"
   ]
  },
  {
   "cell_type": "markdown",
   "metadata": {},
   "source": [
    "Now, we'll use two criteria to filter our cities.\n",
    "\n",
    "1. They should have a minimum number of years with at least one weather station reporting data.\n",
    "2. They should have at least one active weather station reporting data recently (in 2022). We don't want to track cities for which there is no active gathering process!\n",
    "\n",
    "Let's start by counting the number of years during which a weather station was active in each city."
   ]
  },
  {
   "cell_type": "code",
   "execution_count": 36,
   "metadata": {},
   "outputs": [
    {
     "data": {
      "text/html": [
       "<div>\n",
       "<style scoped>\n",
       "    .dataframe tbody tr th:only-of-type {\n",
       "        vertical-align: middle;\n",
       "    }\n",
       "\n",
       "    .dataframe tbody tr th {\n",
       "        vertical-align: top;\n",
       "    }\n",
       "\n",
       "    .dataframe thead th {\n",
       "        text-align: right;\n",
       "    }\n",
       "</style>\n",
       "<table border=\"1\" class=\"dataframe\">\n",
       "  <thead>\n",
       "    <tr style=\"text-align: right;\">\n",
       "      <th></th>\n",
       "      <th>Year</th>\n",
       "    </tr>\n",
       "    <tr>\n",
       "      <th>CMANAME</th>\n",
       "      <th></th>\n",
       "    </tr>\n",
       "  </thead>\n",
       "  <tbody>\n",
       "    <tr>\n",
       "      <th>High River</th>\n",
       "      <td>3</td>\n",
       "    </tr>\n",
       "    <tr>\n",
       "      <th>Ingersoll</th>\n",
       "      <td>10</td>\n",
       "    </tr>\n",
       "    <tr>\n",
       "      <th>Camrose</th>\n",
       "      <td>14</td>\n",
       "    </tr>\n",
       "    <tr>\n",
       "      <th>Wasaga Beach</th>\n",
       "      <td>16</td>\n",
       "    </tr>\n",
       "    <tr>\n",
       "      <th>Campbellton (partie du Québec / Quebec part)</th>\n",
       "      <td>23</td>\n",
       "    </tr>\n",
       "  </tbody>\n",
       "</table>\n",
       "</div>"
      ],
      "text/plain": [
       "                                              Year\n",
       "CMANAME                                           \n",
       "High River                                       3\n",
       "Ingersoll                                       10\n",
       "Camrose                                         14\n",
       "Wasaga Beach                                    16\n",
       "Campbellton (partie du Québec / Quebec part)    23"
      ]
     },
     "execution_count": 36,
     "metadata": {},
     "output_type": "execute_result"
    }
   ],
   "source": [
    "numYearsCollected = (data\n",
    "                     .pivot_table(index=\"CMANAME\", values=[\"Year\"], aggfunc=lambda x: len(x.unique()))\n",
    "                     .sort_values(\"Year\")\n",
    "                     )\n",
    "\n",
    "numYearsCollected.head()"
   ]
  },
  {
   "cell_type": "markdown",
   "metadata": {},
   "source": [
    "Let's take a sidebar to check out Ingersoll. If those 10 years were from 2012 to 2022, we might want to track it. Which years are they?"
   ]
  },
  {
   "cell_type": "code",
   "execution_count": 37,
   "metadata": {},
   "outputs": [
    {
     "data": {
      "text/plain": [
       "array([1872, 1873, 1874, 1875, 1876, 1879, 1880, 1881, 1887, 1888],\n",
       "      dtype=int64)"
      ]
     },
     "execution_count": 37,
     "metadata": {},
     "output_type": "execute_result"
    }
   ],
   "source": [
    "data.loc[data[\"CMANAME\"] == \"Ingersoll\", \"Year\"].unique()"
   ]
  },
  {
   "cell_type": "markdown",
   "metadata": {},
   "source": [
    "All in the 1800s! We may want to exclude that one... On to the next criteria, which will accomplish just that."
   ]
  },
  {
   "cell_type": "code",
   "execution_count": 39,
   "metadata": {},
   "outputs": [
    {
     "data": {
      "text/html": [
       "<div>\n",
       "<style scoped>\n",
       "    .dataframe tbody tr th:only-of-type {\n",
       "        vertical-align: middle;\n",
       "    }\n",
       "\n",
       "    .dataframe tbody tr th {\n",
       "        vertical-align: top;\n",
       "    }\n",
       "\n",
       "    .dataframe thead th {\n",
       "        text-align: right;\n",
       "    }\n",
       "</style>\n",
       "<table border=\"1\" class=\"dataframe\">\n",
       "  <thead>\n",
       "    <tr style=\"text-align: right;\">\n",
       "      <th></th>\n",
       "      <th>Year</th>\n",
       "    </tr>\n",
       "    <tr>\n",
       "      <th>CMANAME</th>\n",
       "      <th></th>\n",
       "    </tr>\n",
       "  </thead>\n",
       "  <tbody>\n",
       "    <tr>\n",
       "      <th>Abbotsford - Mission</th>\n",
       "      <td>2022</td>\n",
       "    </tr>\n",
       "    <tr>\n",
       "      <th>Powell River</th>\n",
       "      <td>2022</td>\n",
       "    </tr>\n",
       "    <tr>\n",
       "      <th>Sarnia</th>\n",
       "      <td>2022</td>\n",
       "    </tr>\n",
       "    <tr>\n",
       "      <th>Salmon Arm</th>\n",
       "      <td>2022</td>\n",
       "    </tr>\n",
       "    <tr>\n",
       "      <th>Saint-Hyacinthe</th>\n",
       "      <td>2022</td>\n",
       "    </tr>\n",
       "  </tbody>\n",
       "</table>\n",
       "</div>"
      ],
      "text/plain": [
       "                      Year\n",
       "CMANAME                   \n",
       "Abbotsford - Mission  2022\n",
       "Powell River          2022\n",
       "Sarnia                2022\n",
       "Salmon Arm            2022\n",
       "Saint-Hyacinthe       2022"
      ]
     },
     "execution_count": 39,
     "metadata": {},
     "output_type": "execute_result"
    }
   ],
   "source": [
    "lastYearCollected = (data\n",
    "                     .pivot_table(index=\"CMANAME\", values=[\"Year\"], aggfunc=\"max\")\n",
    "                     .sort_values(\"Year\", ascending=False)\n",
    "                     )\n",
    "\n",
    "lastYearCollected.head()"
   ]
  },
  {
   "cell_type": "markdown",
   "metadata": {},
   "source": [
    "Looks like there are at least a few cities with weather stations reporting in 2022. How many?"
   ]
  },
  {
   "cell_type": "code",
   "execution_count": 42,
   "metadata": {},
   "outputs": [
    {
     "data": {
      "text/plain": [
       "121"
      ]
     },
     "execution_count": 42,
     "metadata": {},
     "output_type": "execute_result"
    }
   ],
   "source": [
    "lastYearCollected.loc[lastYearCollected[\"Year\"] == 2022, \"Year\"].count()"
   ]
  },
  {
   "cell_type": "markdown",
   "metadata": {},
   "source": [
    "121! That's plenty. These criteria should work just fine. Now, let's put our two dataframes together..."
   ]
  },
  {
   "cell_type": "code",
   "execution_count": 43,
   "metadata": {},
   "outputs": [
    {
     "data": {
      "text/html": [
       "<div>\n",
       "<style scoped>\n",
       "    .dataframe tbody tr th:only-of-type {\n",
       "        vertical-align: middle;\n",
       "    }\n",
       "\n",
       "    .dataframe tbody tr th {\n",
       "        vertical-align: top;\n",
       "    }\n",
       "\n",
       "    .dataframe thead th {\n",
       "        text-align: right;\n",
       "    }\n",
       "</style>\n",
       "<table border=\"1\" class=\"dataframe\">\n",
       "  <thead>\n",
       "    <tr style=\"text-align: right;\">\n",
       "      <th></th>\n",
       "      <th>Latest Year</th>\n",
       "      <th>Number of Years</th>\n",
       "    </tr>\n",
       "    <tr>\n",
       "      <th>CMANAME</th>\n",
       "      <th></th>\n",
       "      <th></th>\n",
       "    </tr>\n",
       "  </thead>\n",
       "  <tbody>\n",
       "    <tr>\n",
       "      <th>Abbotsford - Mission</th>\n",
       "      <td>2022</td>\n",
       "      <td>114</td>\n",
       "    </tr>\n",
       "    <tr>\n",
       "      <th>Powell River</th>\n",
       "      <td>2022</td>\n",
       "      <td>99</td>\n",
       "    </tr>\n",
       "    <tr>\n",
       "      <th>Sarnia</th>\n",
       "      <td>2022</td>\n",
       "      <td>77</td>\n",
       "    </tr>\n",
       "    <tr>\n",
       "      <th>Salmon Arm</th>\n",
       "      <td>2022</td>\n",
       "      <td>122</td>\n",
       "    </tr>\n",
       "    <tr>\n",
       "      <th>Saint-Hyacinthe</th>\n",
       "      <td>2022</td>\n",
       "      <td>94</td>\n",
       "    </tr>\n",
       "    <tr>\n",
       "      <th>...</th>\n",
       "      <td>...</td>\n",
       "      <td>...</td>\n",
       "    </tr>\n",
       "    <tr>\n",
       "      <th>Wasaga Beach</th>\n",
       "      <td>1981</td>\n",
       "      <td>16</td>\n",
       "    </tr>\n",
       "    <tr>\n",
       "      <th>Portage la Prairie</th>\n",
       "      <td>1971</td>\n",
       "      <td>86</td>\n",
       "    </tr>\n",
       "    <tr>\n",
       "      <th>Pembroke</th>\n",
       "      <td>1969</td>\n",
       "      <td>75</td>\n",
       "    </tr>\n",
       "    <tr>\n",
       "      <th>Camrose</th>\n",
       "      <td>1941</td>\n",
       "      <td>14</td>\n",
       "    </tr>\n",
       "    <tr>\n",
       "      <th>Ingersoll</th>\n",
       "      <td>1888</td>\n",
       "      <td>10</td>\n",
       "    </tr>\n",
       "  </tbody>\n",
       "</table>\n",
       "<p>146 rows × 2 columns</p>\n",
       "</div>"
      ],
      "text/plain": [
       "                      Latest Year  Number of Years\n",
       "CMANAME                                           \n",
       "Abbotsford - Mission         2022              114\n",
       "Powell River                 2022               99\n",
       "Sarnia                       2022               77\n",
       "Salmon Arm                   2022              122\n",
       "Saint-Hyacinthe              2022               94\n",
       "...                           ...              ...\n",
       "Wasaga Beach                 1981               16\n",
       "Portage la Prairie           1971               86\n",
       "Pembroke                     1969               75\n",
       "Camrose                      1941               14\n",
       "Ingersoll                    1888               10\n",
       "\n",
       "[146 rows x 2 columns]"
      ]
     },
     "execution_count": 43,
     "metadata": {},
     "output_type": "execute_result"
    }
   ],
   "source": [
    "df = lastYearCollected.join(numYearsCollected, rsuffix=\"_\")\n",
    "df.columns = [\"Latest Year\", \"Number of Years\"]\n",
    "\n",
    "df"
   ]
  },
  {
   "cell_type": "markdown",
   "metadata": {},
   "source": [
    "...and filter using some arbitrary criteria. In this case, only cities with stations reporting in 2022, and only those with at least one station reporting over a minimum of 10 years."
   ]
  },
  {
   "cell_type": "code",
   "execution_count": 44,
   "metadata": {},
   "outputs": [
    {
     "data": {
      "text/html": [
       "<div>\n",
       "<style scoped>\n",
       "    .dataframe tbody tr th:only-of-type {\n",
       "        vertical-align: middle;\n",
       "    }\n",
       "\n",
       "    .dataframe tbody tr th {\n",
       "        vertical-align: top;\n",
       "    }\n",
       "\n",
       "    .dataframe thead th {\n",
       "        text-align: right;\n",
       "    }\n",
       "</style>\n",
       "<table border=\"1\" class=\"dataframe\">\n",
       "  <thead>\n",
       "    <tr style=\"text-align: right;\">\n",
       "      <th></th>\n",
       "      <th>Latest Year</th>\n",
       "      <th>Number of Years</th>\n",
       "    </tr>\n",
       "    <tr>\n",
       "      <th>CMANAME</th>\n",
       "      <th></th>\n",
       "      <th></th>\n",
       "    </tr>\n",
       "  </thead>\n",
       "  <tbody>\n",
       "    <tr>\n",
       "      <th>Abbotsford - Mission</th>\n",
       "      <td>2022</td>\n",
       "      <td>114</td>\n",
       "    </tr>\n",
       "    <tr>\n",
       "      <th>Powell River</th>\n",
       "      <td>2022</td>\n",
       "      <td>99</td>\n",
       "    </tr>\n",
       "    <tr>\n",
       "      <th>Sarnia</th>\n",
       "      <td>2022</td>\n",
       "      <td>77</td>\n",
       "    </tr>\n",
       "    <tr>\n",
       "      <th>Salmon Arm</th>\n",
       "      <td>2022</td>\n",
       "      <td>122</td>\n",
       "    </tr>\n",
       "    <tr>\n",
       "      <th>Saint-Hyacinthe</th>\n",
       "      <td>2022</td>\n",
       "      <td>94</td>\n",
       "    </tr>\n",
       "  </tbody>\n",
       "</table>\n",
       "</div>"
      ],
      "text/plain": [
       "                      Latest Year  Number of Years\n",
       "CMANAME                                           \n",
       "Abbotsford - Mission         2022              114\n",
       "Powell River                 2022               99\n",
       "Sarnia                       2022               77\n",
       "Salmon Arm                   2022              122\n",
       "Saint-Hyacinthe              2022               94"
      ]
     },
     "execution_count": 44,
     "metadata": {},
     "output_type": "execute_result"
    }
   ],
   "source": [
    "to_include = df.loc[(df[\"Latest Year\"] == 2022) & (df[\"Number of Years\"] >= 10), :]\n",
    "\n",
    "to_include.head()"
   ]
  },
  {
   "cell_type": "markdown",
   "metadata": {},
   "source": [
    "Looks like we have plenty of cities we can include. We'll convert this city to a list and use it in our module."
   ]
  },
  {
   "cell_type": "code",
   "execution_count": 32,
   "metadata": {},
   "outputs": [
    {
     "data": {
      "text/plain": [
       "['Saint John',\n",
       " 'Saguenay',\n",
       " 'Saint-Hyacinthe',\n",
       " 'Saint-Georges',\n",
       " 'Abbotsford - Mission',\n",
       " 'Rivière-du-Loup',\n",
       " 'Regina',\n",
       " 'Québec',\n",
       " 'Quesnel',\n",
       " 'Prince Rupert',\n",
       " 'Prince George',\n",
       " 'Prince Albert',\n",
       " 'Powell River',\n",
       " 'Port Alberni',\n",
       " 'Peterborough',\n",
       " 'Petawawa',\n",
       " 'Penticton',\n",
       " 'Rouyn-Noranda',\n",
       " 'Salmon Arm',\n",
       " 'Shawinigan',\n",
       " 'Saskatoon',\n",
       " 'Woodstock',\n",
       " 'Wood Buffalo',\n",
       " 'Winnipeg',\n",
       " 'Winkler',\n",
       " 'Windsor',\n",
       " 'Williams Lake',\n",
       " 'Whitehorse',\n",
       " 'Weyburn',\n",
       " 'Victoriaville',\n",
       " 'Victoria',\n",
       " 'Vernon',\n",
       " 'Vancouver',\n",
       " \"Val-d'Or\",\n",
       " 'Truro',\n",
       " 'Trois-Rivières',\n",
       " 'Trail',\n",
       " 'Toronto',\n",
       " 'Sault Ste. Marie',\n",
       " 'Sept-Îles',\n",
       " 'Parksville',\n",
       " 'Sherbrooke',\n",
       " 'Sorel-Tracy',\n",
       " 'Squamish',\n",
       " 'Sarnia',\n",
       " 'St. Catharines - Niagara',\n",
       " 'Summerside',\n",
       " 'Swift Current',\n",
       " 'Terrace',\n",
       " 'Thetford Mines',\n",
       " 'Thunder Bay',\n",
       " 'Timmins',\n",
       " \"St. John's\",\n",
       " 'Owen Sound',\n",
       " 'North Battleford',\n",
       " \"Ottawa - Gatineau (Ontario part / partie de l'Ontario)\",\n",
       " 'Essa',\n",
       " 'Edmundston',\n",
       " 'Edmonton',\n",
       " 'Duncan',\n",
       " 'Drummondville',\n",
       " 'Dawson Creek',\n",
       " 'Cranbrook',\n",
       " 'Courtenay',\n",
       " 'Cornwall',\n",
       " 'Corner Brook',\n",
       " 'Collingwood',\n",
       " 'Cobourg',\n",
       " 'Chilliwack',\n",
       " 'Chatham-Kent',\n",
       " 'Charlottetown',\n",
       " 'Centre Wellington',\n",
       " 'Cape Breton',\n",
       " 'Campbell River',\n",
       " 'Calgary',\n",
       " 'Brooks',\n",
       " 'Brockville',\n",
       " 'Brantford',\n",
       " 'Brandon',\n",
       " 'Belleville - Quinte West',\n",
       " 'Bathurst',\n",
       " 'Barrie',\n",
       " 'Baie-Comeau',\n",
       " 'Amos',\n",
       " 'Alma',\n",
       " 'Estevan',\n",
       " 'Fort St. John',\n",
       " 'Fredericton',\n",
       " 'Gander',\n",
       " 'Oshawa',\n",
       " 'Orillia',\n",
       " 'Okotoks',\n",
       " 'North Bay',\n",
       " 'Yellowknife',\n",
       " 'Norfolk',\n",
       " 'Nelson',\n",
       " 'Nanaimo',\n",
       " 'Moose Jaw',\n",
       " 'Montréal',\n",
       " 'Moncton',\n",
       " 'Miramichi',\n",
       " 'Medicine Hat',\n",
       " 'London',\n",
       " 'Ottawa - Gatineau (partie du Québec / Quebec part)',\n",
       " \"Lloydminster (Alberta part / partie de l'Alberta)\",\n",
       " 'Ladysmith',\n",
       " 'Lachute',\n",
       " 'Kitchener - Cambridge - Waterloo',\n",
       " 'Kingston',\n",
       " 'Kentville',\n",
       " 'Kenora',\n",
       " 'Kelowna',\n",
       " 'Kamloops',\n",
       " 'Hamilton',\n",
       " 'Halifax',\n",
       " 'Guelph',\n",
       " 'Greater Sudbury / Grand Sudbury',\n",
       " 'Grande Prairie',\n",
       " 'Granby',\n",
       " 'Lethbridge',\n",
       " 'Yorkton']"
      ]
     },
     "execution_count": 32,
     "metadata": {},
     "output_type": "execute_result"
    }
   ],
   "source": [
    "to_include.index.to_list()"
   ]
  }
 ],
 "metadata": {
  "kernelspec": {
   "display_name": "Python 3.10.2 ('geo')",
   "language": "python",
   "name": "python3"
  },
  "language_info": {
   "codemirror_mode": {
    "name": "ipython",
    "version": 3
   },
   "file_extension": ".py",
   "mimetype": "text/x-python",
   "name": "python",
   "nbconvert_exporter": "python",
   "pygments_lexer": "ipython3",
   "version": "3.10.2"
  },
  "orig_nbformat": 4,
  "vscode": {
   "interpreter": {
    "hash": "73de8b438f32372771bda1aa2e3d2689a59747422210df3e3470a45f58c477e6"
   }
  }
 },
 "nbformat": 4,
 "nbformat_minor": 2
}
